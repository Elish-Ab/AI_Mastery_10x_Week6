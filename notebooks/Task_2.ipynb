{
  "cells": [
    {
      "cell_type": "markdown",
      "metadata": {
        "colab_type": "text",
        "id": "view-in-github"
      },
      "source": [
        "<a href=\"https://colab.research.google.com/github/Elish-Ab/AI_Mastery_10x_Week6/blob/main/notebooks/Task_2.ipynb\" target=\"_parent\"><img src=\"https://colab.research.google.com/assets/colab-badge.svg\" alt=\"Open In Colab\"/></a>"
      ]
    },
    {
      "cell_type": "code",
      "execution_count": null,
      "metadata": {
        "collapsed": true,
        "id": "ksPsAFtNJJMD"
      },
      "outputs": [
        {
          "ename": "",
          "evalue": "",
          "output_type": "error",
          "traceback": [
            "\u001b[1;31mRunning cells with 'Python 3.12.3' requires the ipykernel package.\n",
            "\u001b[1;31mRun the following command to install 'ipykernel' into the Python environment. \n",
            "\u001b[1;31mCommand: '/bin/python3 -m pip install ipykernel -U --user --force-reinstall'"
          ]
        }
      ],
      "source": [
        "import pandas as pd\n",
        "!pip install sidetable\n",
        "import sidetable\n",
        "import seaborn as sns\n",
        "import matplotlib.pyplot as plt\n",
        "%matplotlib inline"
      ]
    },
    {
      "cell_type": "markdown",
      "metadata": {
        "id": "R2X1G6cqQjZj"
      },
      "source": [
        "# Load the data"
      ]
    },
    {
      "cell_type": "code",
      "execution_count": null,
      "metadata": {
        "id": "2LVvbrNGKTC0"
      },
      "outputs": [
        {
          "ename": "",
          "evalue": "",
          "output_type": "error",
          "traceback": [
            "\u001b[1;31mRunning cells with 'Python 3.12.3' requires the ipykernel package.\n",
            "\u001b[1;31mRun the following command to install 'ipykernel' into the Python environment. \n",
            "\u001b[1;31mCommand: '/bin/python3 -m pip install ipykernel -U --user --force-reinstall'"
          ]
        }
      ],
      "source": [
        "df = pd.read_csv('data.csv')"
      ]
    },
    {
      "cell_type": "code",
      "execution_count": null,
      "metadata": {
        "id": "RstTV8BzQgvu"
      },
      "outputs": [],
      "source": [
        "df.shape"
      ]
    },
    {
      "cell_type": "code",
      "execution_count": null,
      "metadata": {
        "id": "jZyyKdu9RQfm"
      },
      "outputs": [],
      "source": [
        "df.head()"
      ]
    },
    {
      "cell_type": "code",
      "execution_count": null,
      "metadata": {
        "id": "e4wA28tpSWtN"
      },
      "outputs": [],
      "source": [
        "df.describe()"
      ]
    },
    {
      "cell_type": "code",
      "execution_count": null,
      "metadata": {
        "colab": {
          "base_uri": "https://localhost:8080/"
        },
        "id": "Hszb9u6KZmPF",
        "outputId": "f402b705-1630-4fdd-b101-7853460bfb74"
      },
      "outputs": [],
      "source": [
        "df.info()"
      ]
    },
    {
      "cell_type": "markdown",
      "metadata": {
        "id": "8igff7qTeLMr"
      },
      "source": [
        "Numerical columns analysis"
      ]
    },
    {
      "cell_type": "code",
      "execution_count": null,
      "metadata": {
        "colab": {
          "base_uri": "https://localhost:8080/",
          "height": 545
        },
        "id": "l48IzW9hTSK4",
        "outputId": "f7187e3d-d45e-4451-80ee-2b1c9f9d89c2"
      },
      "outputs": [],
      "source": [
        "df_num = df.select_dtypes(include=['float64','int64'])\n",
        "df_num.hist(figsize=(12,6), bins=50);"
      ]
    },
    {
      "cell_type": "markdown",
      "metadata": {
        "id": "_OrEYN8neRZ8"
      },
      "source": [
        "Object type columns analysis"
      ]
    },
    {
      "cell_type": "code",
      "execution_count": null,
      "metadata": {
        "colab": {
          "base_uri": "https://localhost:8080/",
          "height": 226
        },
        "id": "YCP7-U1dT7zX",
        "outputId": "f67d6f7a-a923-42ce-b04d-8718f32fd4b0"
      },
      "outputs": [],
      "source": [
        "df_cat = df.select_dtypes(include=['object'])\n",
        "df_cat.head()"
      ]
    },
    {
      "cell_type": "markdown",
      "metadata": {
        "id": "JNn4x2tpyQ-l"
      },
      "source": [
        "let's see which provider sales which product"
      ]
    },
    {
      "cell_type": "code",
      "execution_count": null,
      "metadata": {
        "colab": {
          "base_uri": "https://localhost:8080/",
          "height": 1000
        },
        "id": "JyBwM2scYDZo",
        "outputId": "521895de-0981-43fa-9133-ea332a737658"
      },
      "outputs": [],
      "source": [
        "df.stb.freq(['ProviderId','ProductId'], style= True)"
      ]
    },
    {
      "cell_type": "code",
      "execution_count": null,
      "metadata": {
        "colab": {
          "base_uri": "https://localhost:8080/",
          "height": 81
        },
        "id": "8uzqn0mwcEtY",
        "outputId": "1dba8d6e-9c28-4046-9fcf-1777d57986a1"
      },
      "outputs": [],
      "source": [
        "df.stb.freq(['CurrencyCode'])"
      ]
    },
    {
      "cell_type": "code",
      "execution_count": null,
      "metadata": {
        "colab": {
          "base_uri": "https://localhost:8080/",
          "height": 175
        },
        "id": "DF9iJvbQf3o1",
        "outputId": "c4ca517f-e8b6-44a9-d2c0-69331b63288b"
      },
      "outputs": [],
      "source": [
        "df.stb.freq(['ChannelId'])"
      ]
    },
    {
      "cell_type": "code",
      "execution_count": null,
      "metadata": {
        "colab": {
          "base_uri": "https://localhost:8080/",
          "height": 468
        },
        "id": "hVJBoAHL8rnh",
        "outputId": "17804d15-531f-46af-88bd-1747056b224a"
      },
      "outputs": [],
      "source": [
        "\n",
        "sns.countplot(x='ProductCategory', data=df)"
      ]
    },
    {
      "cell_type": "markdown",
      "metadata": {
        "id": "yt_L-_sQsfkl"
      },
      "source": [
        "Correlation of numeric columns"
      ]
    },
    {
      "cell_type": "code",
      "execution_count": null,
      "metadata": {
        "colab": {
          "base_uri": "https://localhost:8080/",
          "height": 206
        },
        "id": "msOhBLvHtfxH",
        "outputId": "07b010bc-66c8-4db1-b3e6-02f654adc256"
      },
      "outputs": [],
      "source": [
        "df_num.corr()"
      ]
    },
    {
      "cell_type": "code",
      "execution_count": null,
      "metadata": {
        "colab": {
          "base_uri": "https://localhost:8080/",
          "height": 682
        },
        "id": "vEy3Lj-ItXIE",
        "outputId": "e52a2de0-5d82-4c44-e9b9-8a960a111528"
      },
      "outputs": [],
      "source": [
        "f, ax = plt.subplots(figsize=(10, 8))\n",
        "ax = sns.heatmap(df_num.corr(), cmap='coolwarm',\n",
        "                   annot=True)"
      ]
    },
    {
      "cell_type": "markdown",
      "metadata": {
        "id": "TM9Cm7MIxsoZ"
      },
      "source": [
        "# Check for missing value"
      ]
    },
    {
      "cell_type": "code",
      "execution_count": null,
      "metadata": {
        "colab": {
          "base_uri": "https://localhost:8080/",
          "height": 551
        },
        "id": "HeBFbU-ax25v",
        "outputId": "7066a95f-be74-468a-bdef-8f91baa83ef1"
      },
      "outputs": [],
      "source": [
        "df.stb.missing()"
      ]
    },
    {
      "cell_type": "markdown",
      "metadata": {
        "id": "nJ0SOhyeyEbM"
      },
      "source": [
        "# Check for outliers"
      ]
    },
    {
      "cell_type": "code",
      "execution_count": null,
      "metadata": {
        "colab": {
          "base_uri": "https://localhost:8080/",
          "height": 1000
        },
        "id": "pF54kj9gyKv4",
        "outputId": "3984f807-723e-4dd8-9de8-ca856fe0ad69"
      },
      "outputs": [],
      "source": [
        "plt.figure(figsize=(10, 6))\n",
        "sns.boxplot(data=df_num)\n",
        "plt.xticks(rotation=90)\n",
        "plt.show()"
      ]
    }
  ],
  "metadata": {
    "colab": {
      "authorship_tag": "ABX9TyNHGPV8lLml457x420h6/yM",
      "include_colab_link": true,
      "provenance": []
    },
    "kernelspec": {
      "display_name": "Python 3",
      "name": "python3"
    },
    "language_info": {
      "name": "python",
      "version": "3.12.3"
    }
  },
  "nbformat": 4,
  "nbformat_minor": 0
}
